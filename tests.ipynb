{
 "cells": [
  {
   "cell_type": "code",
   "execution_count": 2,
   "metadata": {},
   "outputs": [],
   "source": [
    "import numpy as np\n",
    "from help_functions import *"
   ]
  },
  {
   "cell_type": "markdown",
   "metadata": {},
   "source": [
    "# Extend separation of c"
   ]
  },
  {
   "cell_type": "code",
   "execution_count": 4,
   "metadata": {},
   "outputs": [],
   "source": [
    "arr_vertices, faces = read_off(\"data/util/c_template.off\")"
   ]
  },
  {
   "cell_type": "code",
   "execution_count": 42,
   "metadata": {},
   "outputs": [
    {
     "data": {
      "text/plain": [
       "array([[ 0. ,  0. ,  0. ],\n",
       "       [ 7. ,  0. ,  0. ],\n",
       "       [ 7. ,  3. ,  0. ],\n",
       "       [ 5. ,  3. ,  0. ],\n",
       "       [ 5. ,  2. ,  0. ],\n",
       "       [ 2. ,  2. ,  0. ],\n",
       "       [ 2. ,  5. ,  0. ],\n",
       "       [ 5. ,  5. ,  0. ],\n",
       "       [ 5. ,  4. ,  0. ],\n",
       "       [ 7. ,  4. ,  0. ],\n",
       "       [ 7. ,  7. ,  0. ],\n",
       "       [ 0. ,  7. ,  0. ],\n",
       "       [ 0. ,  0. , -3.5],\n",
       "       [ 7. ,  0. , -3.5],\n",
       "       [ 7. ,  3. , -3.5],\n",
       "       [ 5. ,  3. , -3.5],\n",
       "       [ 5. ,  2. , -3.5],\n",
       "       [ 2. ,  2. , -3.5],\n",
       "       [ 2. ,  5. , -3.5],\n",
       "       [ 5. ,  5. , -3.5],\n",
       "       [ 5. ,  4. , -3.5],\n",
       "       [ 7. ,  4. , -3.5],\n",
       "       [ 7. ,  7. , -3.5],\n",
       "       [ 0. ,  7. , -3.5]])"
      ]
     },
     "execution_count": 42,
     "metadata": {},
     "output_type": "execute_result"
    }
   ],
   "source": [
    "arr_vertices"
   ]
  },
  {
   "cell_type": "code",
   "execution_count": 43,
   "metadata": {},
   "outputs": [
    {
     "data": {
      "text/plain": [
       "array([[ 0.,  0.,  0.],\n",
       "       [14.,  0.,  0.],\n",
       "       [14.,  6.,  0.],\n",
       "       [10.,  6.,  0.],\n",
       "       [10.,  4.,  0.],\n",
       "       [ 4.,  4.,  0.],\n",
       "       [ 4., 10.,  0.],\n",
       "       [10., 10.,  0.],\n",
       "       [10.,  8.,  0.],\n",
       "       [14.,  8.,  0.],\n",
       "       [14., 14.,  0.],\n",
       "       [ 0., 14.,  0.],\n",
       "       [ 0.,  0., -7.],\n",
       "       [14.,  0., -7.],\n",
       "       [14.,  6., -7.],\n",
       "       [10.,  6., -7.],\n",
       "       [10.,  4., -7.],\n",
       "       [ 4.,  4., -7.],\n",
       "       [ 4., 10., -7.],\n",
       "       [10., 10., -7.],\n",
       "       [10.,  8., -7.],\n",
       "       [14.,  8., -7.],\n",
       "       [14., 14., -7.],\n",
       "       [ 0., 14., -7.]])"
      ]
     },
     "execution_count": 43,
     "metadata": {},
     "output_type": "execute_result"
    }
   ],
   "source": [
    "arr_vertices * 2"
   ]
  },
  {
   "cell_type": "code",
   "execution_count": 60,
   "metadata": {},
   "outputs": [
    {
     "data": {
      "text/plain": [
       "array([[ 0.    ,  0.    ,  0.    ],\n",
       "       [ 7.    ,  0.    ,  0.    ],\n",
       "       [ 7.    ,  3.0755,  0.    ],\n",
       "       [ 5.    ,  3.0755,  0.    ],\n",
       "       [ 5.    ,  2.    ,  0.    ],\n",
       "       [ 2.    ,  2.    ,  0.    ],\n",
       "       [ 2.    ,  5.    ,  0.    ],\n",
       "       [ 5.    ,  5.    ,  0.    ],\n",
       "       [ 5.    ,  3.9245,  0.    ],\n",
       "       [ 7.    ,  3.9245,  0.    ],\n",
       "       [ 7.    ,  7.    ,  0.    ],\n",
       "       [ 0.    ,  7.    ,  0.    ],\n",
       "       [ 0.    ,  0.    , -3.5   ],\n",
       "       [ 7.    ,  0.    , -3.5   ],\n",
       "       [ 7.    ,  3.0755, -3.5   ],\n",
       "       [ 5.    ,  3.0755, -3.5   ],\n",
       "       [ 5.    ,  2.    , -3.5   ],\n",
       "       [ 2.    ,  2.    , -3.5   ],\n",
       "       [ 2.    ,  5.    , -3.5   ],\n",
       "       [ 5.    ,  5.    , -3.5   ],\n",
       "       [ 5.    ,  3.9245, -3.5   ],\n",
       "       [ 7.    ,  3.9245, -3.5   ],\n",
       "       [ 7.    ,  7.    , -3.5   ],\n",
       "       [ 0.    ,  7.    , -3.5   ]])"
      ]
     },
     "metadata": {},
     "output_type": "display_data"
    }
   ],
   "source": [
    "mid_coord = 3.5 #* 2\n",
    "separation = 0.849 #* 2\n",
    "\n",
    "new_vertices = arr_vertices.copy()\n",
    "#new_vertices = new_vertices * 2\n",
    "\n",
    "top_indices = [8, 9, 20, 21]\n",
    "bottom_indices = [2, 3, 14, 15]\n",
    "\n",
    "top_values = np.array([mid_coord + separation/2] * len(top_indices))\n",
    "bottom_values = np.array([mid_coord - separation/2] * len(bottom_indices))\n",
    "\n",
    "new_vertices[top_indices, 1] = top_values\n",
    "new_vertices[bottom_indices, 1] = bottom_values\n",
    "display(new_vertices)"
   ]
  },
  {
   "cell_type": "code",
   "execution_count": 48,
   "metadata": {},
   "outputs": [],
   "source": [
    "write_vertex(new_vertices, faces, f\"data/util/c_sep_{separation:.4f}_doubled.off\")"
   ]
  },
  {
   "cell_type": "code",
   "execution_count": 61,
   "metadata": {},
   "outputs": [
    {
     "data": {
      "text/plain": [
       "np.float64(7.0)"
      ]
     },
     "execution_count": 61,
     "metadata": {},
     "output_type": "execute_result"
    }
   ],
   "source": [
    "new_vertices[:, 1].max()"
   ]
  },
  {
   "cell_type": "code",
   "execution_count": 5,
   "metadata": {},
   "outputs": [
    {
     "data": {
      "text/plain": [
       "np.float64(0.43310290347676034)"
      ]
     },
     "execution_count": 5,
     "metadata": {},
     "output_type": "execute_result"
    }
   ],
   "source": [
    "7/8 * np.sqrt(2) * 0.35"
   ]
  },
  {
   "cell_type": "code",
   "execution_count": 6,
   "metadata": {},
   "outputs": [
    {
     "data": {
      "text/plain": [
       "np.float64(0.34304780412993074)"
      ]
     },
     "execution_count": 6,
     "metadata": {},
     "output_type": "execute_result"
    }
   ],
   "source": [
    "b / (7/8 * np.sqrt(2))"
   ]
  },
  {
   "cell_type": "code",
   "execution_count": 4,
   "metadata": {},
   "outputs": [
    {
     "data": {
      "text/plain": [
       "(0.42455, 0.4245)"
      ]
     },
     "execution_count": 4,
     "metadata": {},
     "output_type": "execute_result"
    }
   ],
   "source": [
    "a = .8491 / 2\n",
    "b = .849 / 2\n",
    "a, b"
   ]
  },
  {
   "cell_type": "code",
   "execution_count": 55,
   "metadata": {},
   "outputs": [
    {
     "data": {
      "text/plain": [
       "8.244994110718492"
      ]
     },
     "execution_count": 55,
     "metadata": {},
     "output_type": "execute_result"
    }
   ],
   "source": [
    "14 /separation"
   ]
  },
  {
   "cell_type": "code",
   "execution_count": 54,
   "metadata": {},
   "outputs": [
    {
     "data": {
      "text/plain": [
       "np.float64(14.0)"
      ]
     },
     "execution_count": 54,
     "metadata": {},
     "output_type": "execute_result"
    }
   ],
   "source": [
    "new_vertices[:, 1].max()"
   ]
  },
  {
   "cell_type": "code",
   "execution_count": 13,
   "metadata": {},
   "outputs": [
    {
     "data": {
      "text/plain": [
       "np.float64(0.34657359027997264)"
      ]
     },
     "execution_count": 13,
     "metadata": {},
     "output_type": "execute_result"
    }
   ],
   "source": [
    "np.log(2)/2"
   ]
  },
  {
   "cell_type": "code",
   "execution_count": 7,
   "metadata": {},
   "outputs": [
    {
     "data": {
      "text/plain": [
       "0.34304780412993074"
      ]
     },
     "execution_count": 7,
     "metadata": {},
     "output_type": "execute_result"
    }
   ],
   "source": [
    "a = 0.34304780412993074\n",
    "\n",
    "numbers = [i for i in range(1, 100)]\n",
    "bases = [i for i in range(1, 20)]\n",
    "\n",
    "best_idx = -1\n",
    "best_delta = 1000\n",
    "\n",
    "for n in numbers:\n",
    "    delta = np.abs(a - np.sqrt(n))"
   ]
  }
 ],
 "metadata": {
  "kernelspec": {
   "display_name": "Python 3",
   "language": "python",
   "name": "python3"
  },
  "language_info": {
   "codemirror_mode": {
    "name": "ipython",
    "version": 3
   },
   "file_extension": ".py",
   "mimetype": "text/x-python",
   "name": "python",
   "nbconvert_exporter": "python",
   "pygments_lexer": "ipython3",
   "version": "3.10.12"
  }
 },
 "nbformat": 4,
 "nbformat_minor": 2
}
