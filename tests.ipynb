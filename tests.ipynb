{
 "cells": [
  {
   "cell_type": "code",
   "execution_count": 1,
   "metadata": {},
   "outputs": [],
   "source": [
    "import numpy as np\n",
    "from help_functions import *\n",
    "import os"
   ]
  },
  {
   "cell_type": "markdown",
   "metadata": {},
   "source": [
    "# Extend separation of c"
   ]
  },
  {
   "cell_type": "code",
   "execution_count": 3,
   "metadata": {},
   "outputs": [],
   "source": [
    "arr_vertices, faces = read_off(\"data/util/c_template.off\")"
   ]
  },
  {
   "cell_type": "code",
   "execution_count": 4,
   "metadata": {},
   "outputs": [
    {
     "data": {
      "text/plain": [
       "array([[ 0. ,  0. ,  0. ],\n",
       "       [ 7. ,  0. ,  0. ],\n",
       "       [ 7. ,  3. ,  0. ],\n",
       "       [ 5. ,  3. ,  0. ],\n",
       "       [ 5. ,  2. ,  0. ],\n",
       "       [ 2. ,  2. ,  0. ],\n",
       "       [ 2. ,  5. ,  0. ],\n",
       "       [ 5. ,  5. ,  0. ],\n",
       "       [ 5. ,  4. ,  0. ],\n",
       "       [ 7. ,  4. ,  0. ],\n",
       "       [ 7. ,  7. ,  0. ],\n",
       "       [ 0. ,  7. ,  0. ],\n",
       "       [ 0. ,  0. , -3.5],\n",
       "       [ 7. ,  0. , -3.5],\n",
       "       [ 7. ,  3. , -3.5],\n",
       "       [ 5. ,  3. , -3.5],\n",
       "       [ 5. ,  2. , -3.5],\n",
       "       [ 2. ,  2. , -3.5],\n",
       "       [ 2. ,  5. , -3.5],\n",
       "       [ 5. ,  5. , -3.5],\n",
       "       [ 5. ,  4. , -3.5],\n",
       "       [ 7. ,  4. , -3.5],\n",
       "       [ 7. ,  7. , -3.5],\n",
       "       [ 0. ,  7. , -3.5]])"
      ]
     },
     "execution_count": 4,
     "metadata": {},
     "output_type": "execute_result"
    }
   ],
   "source": [
    "arr_vertices"
   ]
  },
  {
   "cell_type": "code",
   "execution_count": 25,
   "metadata": {},
   "outputs": [],
   "source": [
    "mid_coord = 3.5 #* 2\n",
    "separation = 0.8849 #* 2\n",
    "\n",
    "new_vertices = arr_vertices.copy()\n",
    "#new_vertices = new_vertices * 2\n",
    "\n",
    "top_indices = [8, 9, 20, 21]\n",
    "bottom_indices = [2, 3, 14, 15]\n",
    "\n",
    "top_values = np.array([mid_coord + separation/2] * len(top_indices))\n",
    "bottom_values = np.array([mid_coord - separation/2] * len(bottom_indices))\n",
    "\n",
    "new_vertices[top_indices, 1] = top_values\n",
    "new_vertices[bottom_indices, 1] = bottom_values\n",
    "#display(new_vertices)"
   ]
  },
  {
   "cell_type": "code",
   "execution_count": 26,
   "metadata": {},
   "outputs": [],
   "source": [
    "write_vertex(new_vertices, faces, f\"data/util/c_sep_{separation:.4f}.off\")"
   ]
  },
  {
   "cell_type": "markdown",
   "metadata": {},
   "source": [
    "# Tests"
   ]
  },
  {
   "cell_type": "code",
   "execution_count": 47,
   "metadata": {},
   "outputs": [
    {
     "data": {
      "text/plain": [
       "np.float64(0.9851038968047989)"
      ]
     },
     "execution_count": 47,
     "metadata": {},
     "output_type": "execute_result"
    }
   ],
   "source": [
    "RL = 2\n",
    "factor = 0.35\n",
    "octant_side = 7 / 2 ** (RL + 1)\n",
    "long_diag = np.sqrt(3) * octant_side\n",
    "(1 - factor) * long_diag"
   ]
  },
  {
   "cell_type": "code",
   "execution_count": 30,
   "metadata": {},
   "outputs": [],
   "source": [
    "a = 0.885"
   ]
  },
  {
   "cell_type": "code",
   "execution_count": 3,
   "metadata": {},
   "outputs": [
    {
     "data": {
      "text/plain": [
       "'/home/joacaldo/memoria'"
      ]
     },
     "execution_count": 3,
     "metadata": {},
     "output_type": "execute_result"
    }
   ],
   "source": [
    "os.getcwd()"
   ]
  },
  {
   "cell_type": "code",
   "execution_count": 11,
   "metadata": {},
   "outputs": [
    {
     "data": {
      "text/plain": [
       "(False, False)"
      ]
     },
     "execution_count": 11,
     "metadata": {},
     "output_type": "execute_result"
    }
   ],
   "source": [
    "import os\n",
    "\n",
    "filename = \"~/memoria/data/util/test\"\n",
    "os.path.exists(filename), filename.endswith(\".off\")"
   ]
  },
  {
   "cell_type": "code",
   "execution_count": 20,
   "metadata": {},
   "outputs": [],
   "source": [
    "import argparse\n",
    "# Set up argument parsing\n",
    "parser = argparse.ArgumentParser(description=\"Run mesher_roi with specified parameters.\")\n"
   ]
  },
  {
   "cell_type": "code",
   "execution_count": 24,
   "metadata": {},
   "outputs": [
    {
     "data": {
      "text/plain": [
       "False"
      ]
     },
     "execution_count": 24,
     "metadata": {},
     "output_type": "execute_result"
    }
   ],
   "source": [
    "a = {'tamara': False, 'input': 'c_norm', 'surface': 3}\n",
    "\n",
    "a['tamara']"
   ]
  },
  {
   "cell_type": "code",
   "execution_count": 26,
   "metadata": {},
   "outputs": [
    {
     "name": "stdout",
     "output_type": "stream",
     "text": [
      "{'tamara': True, 'input': 'c_norm', 'surface': 2}\n",
      "/home/joacaldo/memoria/mesher-reupload/mesher/build/mesher_roi -o /home/joacaldo/memoria/data/util/c_norm.off -u /home/joacaldo/memoria/data/out_tamara/c_norm_s2 -s 2\n",
      "Command executed successfully!\n",
      "Output:   All done in 11 ms\n",
      "\n",
      "File saved to /home/joacaldo/memoria/data/out_tamara/c_norm_s2.vtk\n",
      "{'tamara': True, 'input': 'c_norm', 'surface': 3}\n",
      "/home/joacaldo/memoria/mesher-reupload/mesher/build/mesher_roi -o /home/joacaldo/memoria/data/util/c_norm.off -u /home/joacaldo/memoria/data/out_tamara/c_norm_s3 -s 3\n",
      "Command executed successfully!\n",
      "Output:   All done in 30 ms\n",
      "\n",
      "File saved to /home/joacaldo/memoria/data/out_tamara/c_norm_s3.vtk\n",
      "{'tamara': True, 'input': 'c_norm', 'surface': 4}\n",
      "/home/joacaldo/memoria/mesher-reupload/mesher/build/mesher_roi -o /home/joacaldo/memoria/data/util/c_norm.off -u /home/joacaldo/memoria/data/out_tamara/c_norm_s4 -s 4\n",
      "Command executed successfully!\n",
      "Output:   All done in 145 ms\n",
      "\n",
      "File saved to /home/joacaldo/memoria/data/out_tamara/c_norm_s4.vtk\n"
     ]
    }
   ],
   "source": [
    "from commands import *\n",
    "\n",
    "params = [{'tamara': True, 'input': 'c_norm', 'surface': 2},\n",
    "          {'tamara': True, 'input': 'c_norm', 'surface': 3},\n",
    "          {'tamara': True, 'input': 'c_norm', 'surface': 4}]\n",
    "\n",
    "for p in params:\n",
    "\tprint(p)\n",
    "\trun_mesher(p)"
   ]
  },
  {
   "cell_type": "code",
   "execution_count": 5,
   "metadata": {},
   "outputs": [
    {
     "data": {
      "text/plain": [
       "'/home/joacaldo/memoria/mesher'"
      ]
     },
     "execution_count": 5,
     "metadata": {},
     "output_type": "execute_result"
    }
   ],
   "source": [
    "import os\n",
    "\n",
    "MESHER = \"/home/joacaldo/memoria/mesher/build/mesher_roi\"\n",
    "\n",
    "os.path.dirname(os.path.dirname(MESHER))"
   ]
  }
 ],
 "metadata": {
  "kernelspec": {
   "display_name": "Python 3",
   "language": "python",
   "name": "python3"
  },
  "language_info": {
   "codemirror_mode": {
    "name": "ipython",
    "version": 3
   },
   "file_extension": ".py",
   "mimetype": "text/x-python",
   "name": "python",
   "nbconvert_exporter": "python",
   "pygments_lexer": "ipython3",
   "version": "3.10.12"
  }
 },
 "nbformat": 4,
 "nbformat_minor": 2
}
