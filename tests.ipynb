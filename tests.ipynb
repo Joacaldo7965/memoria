{
 "cells": [
  {
   "cell_type": "code",
   "execution_count": 11,
   "metadata": {},
   "outputs": [],
   "source": [
    "import numpy as np\n",
    "from help_functions import *"
   ]
  },
  {
   "cell_type": "markdown",
   "metadata": {},
   "source": [
    "# Extend separation of c"
   ]
  },
  {
   "cell_type": "code",
   "execution_count": 4,
   "metadata": {},
   "outputs": [],
   "source": [
    "arr_vertices, faces = read_off(\"data/util/c_template.off\")"
   ]
  },
  {
   "cell_type": "code",
   "execution_count": 40,
   "metadata": {},
   "outputs": [
    {
     "data": {
      "text/plain": [
       "array([[ 0.     ,  0.     ,  0.     ],\n",
       "       [ 7.     ,  0.     ,  0.     ],\n",
       "       [ 7.     ,  3.07545,  0.     ],\n",
       "       [ 5.     ,  3.07545,  0.     ],\n",
       "       [ 5.     ,  2.     ,  0.     ],\n",
       "       [ 2.     ,  2.     ,  0.     ],\n",
       "       [ 2.     ,  5.     ,  0.     ],\n",
       "       [ 5.     ,  5.     ,  0.     ],\n",
       "       [ 5.     ,  3.92455,  0.     ],\n",
       "       [ 7.     ,  3.92455,  0.     ],\n",
       "       [ 7.     ,  7.     ,  0.     ],\n",
       "       [ 0.     ,  7.     ,  0.     ],\n",
       "       [ 0.     ,  0.     , -3.5    ],\n",
       "       [ 7.     ,  0.     , -3.5    ],\n",
       "       [ 7.     ,  3.07545, -3.5    ],\n",
       "       [ 5.     ,  3.07545, -3.5    ],\n",
       "       [ 5.     ,  2.     , -3.5    ],\n",
       "       [ 2.     ,  2.     , -3.5    ],\n",
       "       [ 2.     ,  5.     , -3.5    ],\n",
       "       [ 5.     ,  5.     , -3.5    ],\n",
       "       [ 5.     ,  3.92455, -3.5    ],\n",
       "       [ 7.     ,  3.92455, -3.5    ],\n",
       "       [ 7.     ,  7.     , -3.5    ],\n",
       "       [ 0.     ,  7.     , -3.5    ]])"
      ]
     },
     "metadata": {},
     "output_type": "display_data"
    }
   ],
   "source": [
    "mid_coord = 3.5\n",
    "separation = 0.8491\n",
    "\n",
    "new_vertices = arr_vertices.copy()\n",
    "\n",
    "top_indices = [8, 9, 20, 21]\n",
    "bottom_indices = [2, 3, 14, 15]\n",
    "\n",
    "top_values = np.array([mid_coord + separation/2] * len(top_indices))\n",
    "bottom_values = np.array([mid_coord - separation/2] * len(bottom_indices))\n",
    "\n",
    "new_vertices[top_indices, 1] = top_values\n",
    "new_vertices[bottom_indices, 1] = bottom_values\n",
    "display(new_vertices)\n",
    "write_vertex(new_vertices, faces, f\"data/util/c_sep_{separation:.4f}.off\")"
   ]
  }
 ],
 "metadata": {
  "kernelspec": {
   "display_name": "Python 3",
   "language": "python",
   "name": "python3"
  },
  "language_info": {
   "codemirror_mode": {
    "name": "ipython",
    "version": 3
   },
   "file_extension": ".py",
   "mimetype": "text/x-python",
   "name": "python",
   "nbconvert_exporter": "python",
   "pygments_lexer": "ipython3",
   "version": "3.10.12"
  }
 },
 "nbformat": 4,
 "nbformat_minor": 2
}
