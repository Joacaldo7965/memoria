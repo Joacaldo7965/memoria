{
 "cells": [
  {
   "cell_type": "code",
   "execution_count": 1,
   "metadata": {},
   "outputs": [],
   "source": [
    "import numpy as np\n",
    "from help_functions import *\n",
    "import os"
   ]
  },
  {
   "cell_type": "markdown",
   "metadata": {},
   "source": [
    "# Extend separation of c"
   ]
  },
  {
   "cell_type": "code",
   "execution_count": 3,
   "metadata": {},
   "outputs": [],
   "source": [
    "arr_vertices, faces = read_off(\"data/util/c_template.off\")"
   ]
  },
  {
   "cell_type": "code",
   "execution_count": 4,
   "metadata": {},
   "outputs": [
    {
     "data": {
      "text/plain": [
       "array([[ 0. ,  0. ,  0. ],\n",
       "       [ 7. ,  0. ,  0. ],\n",
       "       [ 7. ,  3. ,  0. ],\n",
       "       [ 5. ,  3. ,  0. ],\n",
       "       [ 5. ,  2. ,  0. ],\n",
       "       [ 2. ,  2. ,  0. ],\n",
       "       [ 2. ,  5. ,  0. ],\n",
       "       [ 5. ,  5. ,  0. ],\n",
       "       [ 5. ,  4. ,  0. ],\n",
       "       [ 7. ,  4. ,  0. ],\n",
       "       [ 7. ,  7. ,  0. ],\n",
       "       [ 0. ,  7. ,  0. ],\n",
       "       [ 0. ,  0. , -3.5],\n",
       "       [ 7. ,  0. , -3.5],\n",
       "       [ 7. ,  3. , -3.5],\n",
       "       [ 5. ,  3. , -3.5],\n",
       "       [ 5. ,  2. , -3.5],\n",
       "       [ 2. ,  2. , -3.5],\n",
       "       [ 2. ,  5. , -3.5],\n",
       "       [ 5. ,  5. , -3.5],\n",
       "       [ 5. ,  4. , -3.5],\n",
       "       [ 7. ,  4. , -3.5],\n",
       "       [ 7. ,  7. , -3.5],\n",
       "       [ 0. ,  7. , -3.5]])"
      ]
     },
     "execution_count": 4,
     "metadata": {},
     "output_type": "execute_result"
    }
   ],
   "source": [
    "arr_vertices"
   ]
  },
  {
   "cell_type": "code",
   "execution_count": 25,
   "metadata": {},
   "outputs": [],
   "source": [
    "mid_coord = 3.5 #* 2\n",
    "separation = 0.8849 #* 2\n",
    "\n",
    "new_vertices = arr_vertices.copy()\n",
    "#new_vertices = new_vertices * 2\n",
    "\n",
    "top_indices = [8, 9, 20, 21]\n",
    "bottom_indices = [2, 3, 14, 15]\n",
    "\n",
    "top_values = np.array([mid_coord + separation/2] * len(top_indices))\n",
    "bottom_values = np.array([mid_coord - separation/2] * len(bottom_indices))\n",
    "\n",
    "new_vertices[top_indices, 1] = top_values\n",
    "new_vertices[bottom_indices, 1] = bottom_values\n",
    "#display(new_vertices)"
   ]
  },
  {
   "cell_type": "code",
   "execution_count": 26,
   "metadata": {},
   "outputs": [],
   "source": [
    "write_vertex(new_vertices, faces, f\"data/util/c_sep_{separation:.4f}.off\")"
   ]
  },
  {
   "cell_type": "markdown",
   "metadata": {},
   "source": [
    "# Tests"
   ]
  },
  {
   "cell_type": "code",
   "execution_count": 47,
   "metadata": {},
   "outputs": [
    {
     "data": {
      "text/plain": [
       "np.float64(0.9851038968047989)"
      ]
     },
     "execution_count": 47,
     "metadata": {},
     "output_type": "execute_result"
    }
   ],
   "source": [
    "RL = 2\n",
    "factor = 0.35\n",
    "octant_side = 7 / 2 ** (RL + 1)\n",
    "long_diag = np.sqrt(3) * octant_side\n",
    "(1 - factor) * long_diag"
   ]
  },
  {
   "cell_type": "code",
   "execution_count": 30,
   "metadata": {},
   "outputs": [],
   "source": [
    "a = 0.885"
   ]
  },
  {
   "cell_type": "code",
   "execution_count": 3,
   "metadata": {},
   "outputs": [
    {
     "data": {
      "text/plain": [
       "'/home/joacaldo/memoria'"
      ]
     },
     "execution_count": 3,
     "metadata": {},
     "output_type": "execute_result"
    }
   ],
   "source": [
    "os.getcwd()"
   ]
  },
  {
   "cell_type": "code",
   "execution_count": 11,
   "metadata": {},
   "outputs": [
    {
     "data": {
      "text/plain": [
       "(False, False)"
      ]
     },
     "execution_count": 11,
     "metadata": {},
     "output_type": "execute_result"
    }
   ],
   "source": [
    "import os\n",
    "\n",
    "filename = \"~/memoria/data/util/test\"\n",
    "os.path.exists(filename), filename.endswith(\".off\")"
   ]
  },
  {
   "cell_type": "code",
   "execution_count": 20,
   "metadata": {},
   "outputs": [],
   "source": [
    "import argparse\n",
    "# Set up argument parsing\n",
    "parser = argparse.ArgumentParser(description=\"Run mesher_roi with specified parameters.\")\n"
   ]
  },
  {
   "cell_type": "code",
   "execution_count": 24,
   "metadata": {},
   "outputs": [
    {
     "data": {
      "text/plain": [
       "False"
      ]
     },
     "execution_count": 24,
     "metadata": {},
     "output_type": "execute_result"
    }
   ],
   "source": [
    "a = {'tamara': False, 'input': 'c_norm', 'surface': 3}\n",
    "\n",
    "a['tamara']"
   ]
  },
  {
   "cell_type": "code",
   "execution_count": 26,
   "metadata": {},
   "outputs": [
    {
     "name": "stdout",
     "output_type": "stream",
     "text": [
      "{'tamara': True, 'input': 'c_norm', 'surface': 2}\n",
      "/home/joacaldo/memoria/mesher-reupload/mesher/build/mesher_roi -o /home/joacaldo/memoria/data/util/c_norm.off -u /home/joacaldo/memoria/data/out_tamara/c_norm_s2 -s 2\n",
      "Command executed successfully!\n",
      "Output:   All done in 11 ms\n",
      "\n",
      "File saved to /home/joacaldo/memoria/data/out_tamara/c_norm_s2.vtk\n",
      "{'tamara': True, 'input': 'c_norm', 'surface': 3}\n",
      "/home/joacaldo/memoria/mesher-reupload/mesher/build/mesher_roi -o /home/joacaldo/memoria/data/util/c_norm.off -u /home/joacaldo/memoria/data/out_tamara/c_norm_s3 -s 3\n",
      "Command executed successfully!\n",
      "Output:   All done in 30 ms\n",
      "\n",
      "File saved to /home/joacaldo/memoria/data/out_tamara/c_norm_s3.vtk\n",
      "{'tamara': True, 'input': 'c_norm', 'surface': 4}\n",
      "/home/joacaldo/memoria/mesher-reupload/mesher/build/mesher_roi -o /home/joacaldo/memoria/data/util/c_norm.off -u /home/joacaldo/memoria/data/out_tamara/c_norm_s4 -s 4\n",
      "Command executed successfully!\n",
      "Output:   All done in 145 ms\n",
      "\n",
      "File saved to /home/joacaldo/memoria/data/out_tamara/c_norm_s4.vtk\n"
     ]
    }
   ],
   "source": [
    "from commands import *\n",
    "\n",
    "params = [{'tamara': True, 'input': 'c_norm', 'surface': 2},\n",
    "          {'tamara': True, 'input': 'c_norm', 'surface': 3},\n",
    "          {'tamara': True, 'input': 'c_norm', 'surface': 4}]\n",
    "\n",
    "for p in params:\n",
    "\tprint(p)\n",
    "\trun_mesher(p)"
   ]
  },
  {
   "cell_type": "code",
   "execution_count": 5,
   "metadata": {},
   "outputs": [
    {
     "data": {
      "text/plain": [
       "'/home/joacaldo/memoria/mesher'"
      ]
     },
     "execution_count": 5,
     "metadata": {},
     "output_type": "execute_result"
    }
   ],
   "source": [
    "import os\n",
    "\n",
    "MESHER = \"/home/joacaldo/memoria/mesher/build/mesher_roi\"\n",
    "\n",
    "os.path.dirname(os.path.dirname(MESHER))"
   ]
  },
  {
   "cell_type": "code",
   "execution_count": 2,
   "metadata": {},
   "outputs": [
    {
     "data": {
      "text/plain": [
       "(3.5, -1.75)"
      ]
     },
     "execution_count": 2,
     "metadata": {},
     "output_type": "execute_result"
    }
   ],
   "source": [
    "(8.8025 + -1.8025)/2, (0.0175 + -3.5175) /2"
   ]
  },
  {
   "cell_type": "code",
   "execution_count": 14,
   "metadata": {},
   "outputs": [
    {
     "data": {
      "text/plain": [
       "array([[ -8.08  , -40.4   , -19.2748],\n",
       "       [  8.08  , -40.4   , -19.2748],\n",
       "       [ -8.08  , -24.24  , -19.2748],\n",
       "       ...,\n",
       "       [  0.    ,   0.    ,  47.3852],\n",
       "       [  2.02  ,   0.    ,  49.4052],\n",
       "       [  2.02  ,   0.    ,  47.3852]])"
      ]
     },
     "execution_count": 14,
     "metadata": {},
     "output_type": "execute_result"
    }
   ],
   "source": [
    "import numpy as np\n",
    "\n",
    "points = []\n",
    "\n",
    "with open(\"points.txt\", \"r\") as f:\n",
    "\tfor line in f:\n",
    "\t\tpoints.append([float(x) for x in line.split()])\n",
    "\n",
    "points = np.array(points)\n",
    "points"
   ]
  },
  {
   "cell_type": "code",
   "execution_count": 15,
   "metadata": {},
   "outputs": [
    {
     "name": "stdout",
     "output_type": "stream",
     "text": [
      "(651,) (14,)\n"
     ]
    },
    {
     "data": {
      "text/plain": [
       "(637,)"
      ]
     },
     "execution_count": 15,
     "metadata": {},
     "output_type": "execute_result"
    }
   ],
   "source": [
    "import numpy as np\n",
    "\n",
    "p1 = []\n",
    "p2 = []\n",
    "\n",
    "with open(\"candidate_split_points_3way-activated.txt\", \"r\") as f:\n",
    "\tfor line in f:\n",
    "\t\tp1.append(int(line))\n",
    "p1 = np.array(p1)\n",
    "\n",
    "with open(\"candidate_split_points_3way-deactivated.txt\", \"r\") as f:\n",
    "\tfor line in f:\n",
    "\t\tp2.append(int(line))\n",
    "p2 = np.array(p2)\n",
    "\n",
    "print(p1.shape, p2.shape)\n",
    "\n",
    "# Get the intersection\n",
    "np.intersect1d(p1, p2).shape\n",
    "\n",
    "# p1 without the elements in p2\n",
    "indices = p1[np.isin(p1, p2, invert=True)]\n",
    "indices.shape"
   ]
  },
  {
   "cell_type": "code",
   "execution_count": 25,
   "metadata": {},
   "outputs": [
    {
     "data": {
      "text/plain": [
       "(637, 3)"
      ]
     },
     "execution_count": 25,
     "metadata": {},
     "output_type": "execute_result"
    }
   ],
   "source": [
    "splitted_points = points[indices]\n",
    "splitted_points.shape"
   ]
  },
  {
   "cell_type": "code",
   "execution_count": 59,
   "metadata": {},
   "outputs": [
    {
     "name": "stdout",
     "output_type": "stream",
     "text": [
      "8.08 -8.08\n",
      "34.34 -34.34\n",
      "55.4652 -13.2148\n"
     ]
    }
   ],
   "source": [
    "# Get the splitted points max and min x\n",
    "max_x = np.max(splitted_points[:, 0])\n",
    "min_x = np.min(splitted_points[:, 0])\n",
    "print(max_x, min_x)\n",
    "\n",
    "# Get the splitted points max and min y\n",
    "max_y = np.max(splitted_points[:, 1])\n",
    "min_y = np.min(splitted_points[:, 1])\n",
    "print(max_y, min_y)\n",
    "\n",
    "# Get the splitted points max and min z\n",
    "max_z = np.max(splitted_points[:, 2])\n",
    "min_z = np.min(splitted_points[:, 2])\n",
    "print(max_z, min_z)"
   ]
  },
  {
   "cell_type": "code",
   "execution_count": 60,
   "metadata": {},
   "outputs": [
    {
     "data": {
      "text/plain": [
       "np.float64(0.0)"
      ]
     },
     "execution_count": 60,
     "metadata": {},
     "output_type": "execute_result"
    }
   ],
   "source": [
    "(max_y + min_y)/2"
   ]
  },
  {
   "cell_type": "code",
   "execution_count": 70,
   "metadata": {},
   "outputs": [
    {
     "data": {
      "text/plain": [
       "array([[-4.04  ,  0.    , 55.4652],\n",
       "       [-6.06  ,  0.    , 55.4652],\n",
       "       [ 0.    ,  0.    , 55.4652],\n",
       "       [-2.02  ,  0.    , 55.4652]])"
      ]
     },
     "execution_count": 70,
     "metadata": {},
     "output_type": "execute_result"
    }
   ],
   "source": [
    "# Get the splitted points with z > C\n",
    "condition = (splitted_points[:, 2] > max_z - 2.03 * 0.1) & (splitted_points[:, 1] == 0.0)\n",
    "\n",
    "splitted_points_w_condition = splitted_points[condition]\n",
    "splitted_points_w_condition"
   ]
  },
  {
   "cell_type": "code",
   "execution_count": 71,
   "metadata": {},
   "outputs": [
    {
     "data": {
      "text/plain": [
       "array([5136, 5140, 5144, 5147])"
      ]
     },
     "execution_count": 71,
     "metadata": {},
     "output_type": "execute_result"
    }
   ],
   "source": [
    "# Get the indices of the splitted points with z > C\n",
    "indices_w_condition = indices[condition]\n",
    "indices_w_condition"
   ]
  },
  {
   "cell_type": "code",
   "execution_count": 72,
   "metadata": {},
   "outputs": [
    {
     "data": {
      "text/plain": [
       "array([ 0.    ,  0.    , 55.4652])"
      ]
     },
     "execution_count": 72,
     "metadata": {},
     "output_type": "execute_result"
    }
   ],
   "source": [
    "points[5144]"
   ]
  },
  {
   "cell_type": "markdown",
   "metadata": {},
   "source": [
    "# Mesh repairing"
   ]
  },
  {
   "cell_type": "code",
   "execution_count": 2,
   "metadata": {},
   "outputs": [
    {
     "name": "stdout",
     "output_type": "stream",
     "text": [
      "1756 3524\n",
      "(1756, 3)\n",
      "(3524, 3)\n",
      "5286\n"
     ]
    }
   ],
   "source": [
    "import numpy as np\n",
    "\n",
    "# Read .off file\n",
    "with open('data/inputs/guide.off') as f:\n",
    "\tlines = f.readlines()\n",
    "\tn_vertices, n_faces, _ = map(int, lines[1].split())\n",
    "\tprint(n_vertices, n_faces)\n",
    "\n",
    "\tvertices_count = 0\n",
    "\tvertices = []\n",
    "\n",
    "\tfaces_count = 0\n",
    "\tfaces = []\n",
    "\n",
    "\tedges = set()\n",
    "\n",
    "\tfor line in lines[2:]: # [2 + 1:2+n_vertices + 1]\n",
    "\t\tline = line.strip()\n",
    "\t\tif line == \"\":\n",
    "\t\t\tcontinue\n",
    "\t\tif vertices_count < n_vertices:\n",
    "\t\t\tvertices.append(list(map(float, line.split())))\n",
    "\t\t\tvertices_count += 1\n",
    "\t\telif faces_count < n_faces:\n",
    "\t\t\t#faces.append(list(map(int, line.split()[1:4])))\n",
    "\t\t\tfaces_count += 1\n",
    "\n",
    "\t\t\tface_data = list(map(int, line.strip().split()[:4]))\n",
    "\t\t\tvertex_count = face_data[0]  # First number is the number of vertices in the face\n",
    "\t\t\tface_vertices = face_data[1:]\n",
    "\n",
    "\t\t\tfaces.append(face_vertices)\n",
    "\t\t\t\n",
    "\t\t\t# Loop through pairs of vertices to create edges\n",
    "\t\t\tfor i in range(vertex_count):\n",
    "\t\t\t\tv1 = face_vertices[i]\n",
    "\t\t\t\tv2 = face_vertices[(i + 1) % vertex_count]  # Wrap around to form a closed loop\n",
    "\t\t\t\tedge = tuple(sorted((v1, v2)))  # Sort to avoid directional duplicates\n",
    "\t\t\t\tedges.add(edge)\n",
    "\tvertices = np.array(vertices)\n",
    "\tfaces = np.array(faces)\n",
    "\tprint(vertices.shape)\n",
    "\tprint(faces.shape)\n",
    "\tprint(len(edges))"
   ]
  },
  {
   "cell_type": "code",
   "execution_count": 22,
   "metadata": {},
   "outputs": [
    {
     "name": "stdout",
     "output_type": "stream",
     "text": [
      "(1756, 3) (3524, 3)\n"
     ]
    }
   ],
   "source": [
    "from collections import defaultdict\n",
    "\n",
    "with open('data/inputs/guide.off', 'r') as f:\n",
    "\t# Read the file header\n",
    "\theader = f.readline().strip()\n",
    "\tif header != 'OFF':\n",
    "\t\traise ValueError(\"Not a valid OFF file\")\n",
    "\t\n",
    "\t# Read the counts of vertices, faces, and edges (skip edge count here)\n",
    "\tn_vertices, n_faces, _ = map(int, f.readline().strip().split())\n",
    "\n",
    "\tf.readline()  # Skip space after counts\n",
    "\n",
    "\t# Read vertices\n",
    "\tvertices = []\n",
    "\tfor _ in range(n_vertices):\n",
    "\t\tvertex = tuple(map(float, f.readline().strip().split()))\n",
    "\t\tvertices.append(vertex)\n",
    "\n",
    "\tf.readline()  # Skip space after vertices\n",
    "\t\n",
    "\t# Read faces and collect edges and their associated faces\n",
    "\tfaces = []\n",
    "\tedge_to_faces = defaultdict(list)\n",
    "\t\n",
    "\tfor face_index in range(n_faces):\n",
    "\t\tface_data = list(map(int, f.readline().strip().split()[:4]))\n",
    "\t\tvertex_count = face_data[0]  # First number is the number of vertices in the face\n",
    "\t\tface_vertices = face_data[1:]\n",
    "\t\tfaces.append(face_vertices)\n",
    "\t\t\n",
    "\t\t# Loop through pairs of vertices to create edges\n",
    "\t\tfor i in range(vertex_count):\n",
    "\t\t\tv1 = face_vertices[i]\n",
    "\t\t\tv2 = face_vertices[(i + 1) % vertex_count]  # Wrap around to form a closed loop\n",
    "\t\t\tedge = tuple(sorted((v1, v2)))  # Sort to avoid directional duplicates\n",
    "\t\t\tedge_to_faces[edge].append(face_index)\n",
    "\n",
    "vertices = np.array(vertices)\n",
    "faces = np.array(faces)\n",
    "print(vertices.shape, faces.shape)\n",
    "\t\n",
    "# Convert edge_to_faces defaultdict to a regular dictionary for output\n",
    "edge_to_faces = dict(edge_to_faces)"
   ]
  },
  {
   "cell_type": "code",
   "execution_count": 23,
   "metadata": {},
   "outputs": [
    {
     "data": {
      "text/plain": [
       "(0, 1495, array([69, 68, 70]), array([  68,   69, 1109]))"
      ]
     },
     "execution_count": 23,
     "metadata": {},
     "output_type": "execute_result"
    }
   ],
   "source": [
    "f1, f2 = edge_to_faces[(68, 69)]\n",
    "f1, f2, faces[f1], faces[f2]"
   ]
  },
  {
   "cell_type": "code",
   "execution_count": 39,
   "metadata": {},
   "outputs": [
    {
     "data": {
      "text/plain": [
       "False"
      ]
     },
     "execution_count": 39,
     "metadata": {},
     "output_type": "execute_result"
    }
   ],
   "source": [
    "a = np.array([68, 70, 69])\n",
    "b = np.array([68, 1109, 69])\n",
    "\n",
    "def getContiguousPair(a, v1, v2):\n",
    "\tfor i in range(len(a) - 1):\n",
    "\t\tif (a[i] == v1 and a[i + 1] == v2) or (a[i] == v2 and a[i + 1] == v1):\n",
    "\t\t\treturn int(a[i]), int(a[i + 1])\n",
    "\treturn False\n",
    "\n",
    "def congruent_array(a1, a2):\n",
    "\tintersect = np.intersect1d(a1, a2)\n",
    "\tv1, v2 = intersect\n",
    "\t# print(v1, v2)\n",
    "\n",
    "\tad1 = np.concat([a1, a1])\n",
    "\tad2 = np.concat([a2, a2])\n",
    "\t# print(ad1, ad2)\n",
    "\n",
    "\tp1 = getContiguousPair(ad1, v1, v2)\n",
    "\tp2 = getContiguousPair(ad2, v1, v2)\n",
    "\tassert p1 and p2, \"No contiguous pair found\"\n",
    "\n",
    "\t# print(p1, p2)\n",
    "\tcondition = (p1[0] == p2[1]) and (p1[1] == p2[0])\n",
    "\t# print(condition)\n",
    "\treturn condition\n",
    "\n",
    "congruent_array(a, b)\n"
   ]
  },
  {
   "cell_type": "markdown",
   "metadata": {},
   "source": [
    "## Hole detection"
   ]
  },
  {
   "cell_type": "code",
   "execution_count": 30,
   "metadata": {},
   "outputs": [],
   "source": [
    "for edge, faces_indices in edge_to_faces.items():\n",
    "\tif len(faces_indices) != 2:\n",
    "\t\tprint(edge, faces_indices)"
   ]
  },
  {
   "cell_type": "markdown",
   "metadata": {},
   "source": [
    "## Congruency"
   ]
  },
  {
   "cell_type": "code",
   "execution_count": 31,
   "metadata": {},
   "outputs": [],
   "source": [
    "for edge, faces_indices in edge_to_faces.items():\n",
    "\tv1, v2 = edge\n",
    "\tf_idx1, f_idx2 = faces_indices\n",
    "\n",
    "\tf1, f2 = faces[f_idx1], faces[f_idx2]\n",
    "\n",
    "\tresult = congruent_array(f1, f2)\n",
    "\t\n",
    "\tif not result:\n",
    "\t\tprint(v1, v2, f_idx1, f_idx2, f1, f2)"
   ]
  },
  {
   "cell_type": "code",
   "execution_count": 121,
   "metadata": {},
   "outputs": [
    {
     "data": {
      "text/plain": [
       "array(True)"
      ]
     },
     "execution_count": 121,
     "metadata": {},
     "output_type": "execute_result"
    }
   ],
   "source": [
    "np.array(np.True_, np.False_)"
   ]
  },
  {
   "cell_type": "code",
   "execution_count": null,
   "metadata": {},
   "outputs": [],
   "source": [
    "0, 1\n",
    "1, 2\n",
    "2, 0"
   ]
  },
  {
   "cell_type": "code",
   "execution_count": 85,
   "metadata": {},
   "outputs": [
    {
     "name": "stdout",
     "output_type": "stream",
     "text": [
      "2 0\n"
     ]
    }
   ],
   "source": [
    "i = 2\n",
    "j = (i + 1) % 3\n",
    "print(i, j)\n"
   ]
  }
 ],
 "metadata": {
  "kernelspec": {
   "display_name": "Python 3",
   "language": "python",
   "name": "python3"
  },
  "language_info": {
   "codemirror_mode": {
    "name": "ipython",
    "version": 3
   },
   "file_extension": ".py",
   "mimetype": "text/x-python",
   "name": "python",
   "nbconvert_exporter": "python",
   "pygments_lexer": "ipython3",
   "version": "3.10.12"
  }
 },
 "nbformat": 4,
 "nbformat_minor": 2
}
